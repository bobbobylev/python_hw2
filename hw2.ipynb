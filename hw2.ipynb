{
 "cells": [
  {
   "cell_type": "markdown",
   "metadata": {},
   "source": [
    "**Задание 1**\n",
    "\n",
    "Дан список с визитами по городам и странам. Напишите код, который возвращает отфильтрованный список geo_logs, содержащий только визиты из России. Считайте, что список geo_logs легко помещается в оперативной памяти.\n",
    "\n"
   ]
  },
  {
   "cell_type": "code",
   "execution_count": 198,
   "metadata": {},
   "outputs": [
    {
     "name": "stdout",
     "output_type": "stream",
     "text": [
      "['Москва', 'Россия']\n",
      "['Дели', 'Индия']\n",
      "['Владимир', 'Россия']\n",
      "['Лиссабон', 'Португалия']\n",
      "['Париж', 'Франция']\n",
      "['Лиссабон', 'Португалия']\n",
      "['Тула', 'Россия']\n",
      "['Тула', 'Россия']\n",
      "['Курск', 'Россия']\n",
      "['Архангельск', 'Россия']\n"
     ]
    }
   ],
   "source": [
    "geo_logs = [\n",
    "\t{'visit1': ['Москва', 'Россия']},\n",
    "\t{'visit2': ['Дели', 'Индия']},\n",
    "\t{'visit3': ['Владимир', 'Россия']},\n",
    "\t{'visit4': ['Лиссабон', 'Португалия']},\n",
    "\t{'visit5': ['Париж', 'Франция']},\n",
    "\t{'visit6': ['Лиссабон', 'Португалия']},\n",
    "\t{'visit7': ['Тула', 'Россия']},\n",
    "\t{'visit8': ['Тула', 'Россия']},\n",
    "\t{'visit9': ['Курск', 'Россия']},\n",
    "\t{'visit10': ['Архангельск', 'Россия']},\n",
    "]\n",
    "\n",
    "for visit in geo_logs:\n",
    "    print(list(visit.values())[0])\n"
   ]
  },
  {
   "cell_type": "code",
   "execution_count": null,
   "metadata": {},
   "outputs": [],
   "source": []
  },
  {
   "cell_type": "code",
   "execution_count": null,
   "metadata": {},
   "outputs": [],
   "source": []
  },
  {
   "cell_type": "markdown",
   "metadata": {},
   "source": [
    "**Задание 2**\n",
    "\n",
    "\n",
    "Выведите на экран все уникальные гео-ID из значений словаря ids. Т. е. список вида [213, 15, 54, 119, 98, 35]"
   ]
  },
  {
   "cell_type": "code",
   "execution_count": 2,
   "metadata": {},
   "outputs": [
    {
     "data": {
      "text/plain": [
       "[98, 35, 15, 213, 54, 119]"
      ]
     },
     "execution_count": 2,
     "metadata": {},
     "output_type": "execute_result"
    }
   ],
   "source": [
    "ids = {'user1': [213, 213, 213, 15, 213], 'user2': [54, 54, 119, 119, 119], 'user3': [213, 98, 98, 35]}\n",
    "\n",
    "uniq = set(i for value in ids.values() for i in (value))\n",
    "uniq = list(uniq)\n",
    "uniq"
   ]
  },
  {
   "cell_type": "code",
   "execution_count": null,
   "metadata": {},
   "outputs": [],
   "source": []
  },
  {
   "cell_type": "markdown",
   "metadata": {},
   "source": [
    "**Задание 3**\n",
    "\n",
    "Список поисковых запросов. Получить распределение количества слов в них. Т. е. поисковых запросов из одного слова 5%, из двух - 7%, из трех - 3% итд.\n"
   ]
  },
  {
   "cell_type": "code",
   "execution_count": 57,
   "metadata": {},
   "outputs": [
    {
     "name": "stdout",
     "output_type": "stream",
     "text": [
      "Counter({3: 57.14285714285714, 2: 42.857142857142854})\n"
     ]
    }
   ],
   "source": [
    "queries = [\n",
    "\n",
    "    'смотреть сериалы онлайн',\n",
    "    \n",
    "    'новости спорта',\n",
    "    \n",
    "    'афиша кино',\n",
    "    \n",
    "    'курс доллара',\n",
    "    \n",
    "    'сериалы этим летом',\n",
    "    \n",
    "    'курс по питону',\n",
    "    \n",
    "    'сериалы про спорт',\n",
    "]\n",
    "\n",
    "a = [len(x.split(' ')) for x in queries]\n",
    "from collections import Counter\n",
    "c = Counter(a)\n",
    "for k in c.keys():\n",
    "     c[k] = c[k] / len(queries) *100 \n",
    "print(c)"
   ]
  },
  {
   "cell_type": "markdown",
   "metadata": {},
   "source": [
    "### **Задание 4**\n",
    "\n",
    "Дана статистика рекламных каналов по объемам продаж. Напишите скрипт, который возвращает название канала с максимальным объемом.\n",
    "Т. е. в данном примере скрипт должен возвращать 'yandex'.\n"
   ]
  },
  {
   "cell_type": "code",
   "execution_count": 10,
   "metadata": {},
   "outputs": [],
   "source": [
    "stats = {'facebook': 55, 'yandex': 120, 'vk': 115, 'google': 99, 'email': 42, 'ok': 98}"
   ]
  },
  {
   "cell_type": "markdown",
   "metadata": {},
   "source": [
    "**Задание 5**\n",
    "\n",
    "Дан поток логов по количеству просмотренных страниц для каждого пользователя. Список отсортирован по ID пользователя. Вам необходимо написать алгоритм, который считает среднее значение просмотров на пользователя. Т. е. надо посчитать отношение суммы всех просмотров к количеству уникальных пользователей. Учтите, что весь список stream не помещается в оперативную память, т. е. его нужно обрабатывать поэлементно в цикле."
   ]
  },
  {
   "cell_type": "code",
   "execution_count": 11,
   "metadata": {},
   "outputs": [],
   "source": [
    "stream = [\n",
    "\n",
    "    '2018-01-01,user1,3',\n",
    "    \n",
    "    '2018-01-07,user1,4',\n",
    "    \n",
    "    '2018-03-29,user1,1',\n",
    "    \n",
    "    '2018-04-04,user1,13',\n",
    "    \n",
    "    '2018-01-05,user2,7',\n",
    "    \n",
    "    '2018-06-14,user3,4',\n",
    "    \n",
    "    '2018-07-02,user3,10',\n",
    "    \n",
    "    '2018-03-21,user4,19',\n",
    "    \n",
    "    '2018-03-22,user4,4',\n",
    "    \n",
    "    '2018-04-22,user4,8',\n",
    "    \n",
    "    \n",
    "    '2018-05-03,user4,9',\n",
    "    \n",
    "    '2018-05-11,user4,11',\n",
    "    \n",
    "]"
   ]
  },
  {
   "cell_type": "markdown",
   "metadata": {},
   "source": [
    "**Задание 6**\n",
    "\n",
    "Дана статистика рекламных кампаний по дням. Напишите алгоритм, который по паре дата-кампания ищет значение численного столбца. Т. е. для даты '2018-01-01' и 'google' нужно получить число 25. Считайте, что все комбинации дата-кампания уникальны, а список stats легко помещается в оперативной памяти."
   ]
  },
  {
   "cell_type": "code",
   "execution_count": 12,
   "metadata": {},
   "outputs": [],
   "source": [
    "stats = [\n",
    "\n",
    "    ['2018-01-01', 'google', 25],\n",
    "    \n",
    "    ['2018-01-01', 'yandex', 65],\n",
    "    \n",
    "    ['2018-01-01', 'market', 89],\n",
    "    \n",
    "    ['2018-01-02', 'google', 574],\n",
    "    \n",
    "    ['2018-01-02', 'yandex', 249],\n",
    "    \n",
    "    ['2018-01-02', 'market', 994],\n",
    "    \n",
    "    \n",
    "    ['2018-01-03', 'google', 1843],\n",
    "    \n",
    "    ['2018-01-03', 'yandex', 1327],\n",
    "    \n",
    "    ['2018-01-03', 'market', 1764],\n",
    "    \n",
    "]"
   ]
  },
  {
   "cell_type": "code",
   "execution_count": null,
   "metadata": {},
   "outputs": [],
   "source": []
  }
 ],
 "metadata": {
  "kernelspec": {
   "display_name": "Python 3",
   "language": "python",
   "name": "python3"
  },
  "language_info": {
   "codemirror_mode": {
    "name": "ipython",
    "version": 3
   },
   "file_extension": ".py",
   "mimetype": "text/x-python",
   "name": "python",
   "nbconvert_exporter": "python",
   "pygments_lexer": "ipython3",
   "version": "3.7.1"
  }
 },
 "nbformat": 4,
 "nbformat_minor": 2
}
